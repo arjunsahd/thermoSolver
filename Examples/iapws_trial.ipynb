{
 "cells": [
  {
   "cell_type": "code",
   "execution_count": 4,
   "metadata": {},
   "outputs": [],
   "source": [
    "from iapws import IAPWS97\n",
    "import chempy"
   ]
  },
  {
   "cell_type": "code",
   "execution_count": 2,
   "metadata": {},
   "outputs": [
    {
     "name": "stdout",
     "output_type": "stream",
     "text": [
      "2777.1195376846617 405.81466030352686 2811.704862899988\n"
     ]
    }
   ],
   "source": [
    "sat_steam = IAPWS97(P=1, x=1)\n",
    "sat_liquid= IAPWS97(T=370, x=0)\n",
    "steam = IAPWS97(P=2.5, T=500)\n",
    "print(sat_steam.h, sat_liquid.h, steam.h)"
   ]
  },
  {
   "cell_type": "code",
   "execution_count": null,
   "metadata": {},
   "outputs": [],
   "source": []
  }
 ],
 "metadata": {
  "kernelspec": {
   "display_name": "Python 3",
   "language": "python",
   "name": "python3"
  },
  "language_info": {
   "codemirror_mode": {
    "name": "ipython",
    "version": 3
   },
   "file_extension": ".py",
   "mimetype": "text/x-python",
   "name": "python",
   "nbconvert_exporter": "python",
   "pygments_lexer": "ipython3",
   "version": "3.7.3"
  }
 },
 "nbformat": 4,
 "nbformat_minor": 2
}
