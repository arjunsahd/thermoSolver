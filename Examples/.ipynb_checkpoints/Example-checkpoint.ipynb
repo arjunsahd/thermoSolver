{
 "cells": [
  {
   "cell_type": "code",
   "execution_count": 4,
   "metadata": {},
   "outputs": [],
   "source": [
    "import sys\n",
    "sys.path.insert(0, '../')\n",
    "\n",
    "from thermoSolver import specificHeat, Convertion, AdiabaticCombustion\n",
    "import math"
   ]
  },
  {
   "cell_type": "code",
   "execution_count": 9,
   "metadata": {},
   "outputs": [
    {
     "name": "stdout",
     "output_type": "stream",
     "text": [
      "523\n"
     ]
    }
   ],
   "source": [
    "# initial conditions for adiabatic\n",
    "# mass flow relative to fuel\n",
    "\n",
    "CompoundIn = ['Fuel','Air']\n",
    "CompoundOut = ['CarbonDioxide', 'Water', 'Nitrogen', 'Oxygen']\n",
    "MFlowListIn = [1, 4.4]\n",
    "MFlowListOut = [1.03, 0.75, 3.36, 0.236]\n",
    "\n",
    "TempAirIn = Convertion.CtoK(250)\n",
    "print(TempAirIn)\n",
    "LowerHeatingValue = 93\n",
    "T_guess = 1000"
   ]
  },
  {
   "cell_type": "code",
   "execution_count": 10,
   "metadata": {},
   "outputs": [
    {
     "name": "stdout",
     "output_type": "stream",
     "text": [
      "100.26558213610606\n",
      "57.24942968888001\n",
      "692.0607985655763\n",
      "100.26558213610606\n",
      "56.717807026824524\n",
      "695.7543766802248\n"
     ]
    },
    {
     "data": {
      "text/plain": [
       "695.7543766802248"
      ]
     },
     "execution_count": 10,
     "metadata": {},
     "output_type": "execute_result"
    }
   ],
   "source": [
    "AdiabaticCombustion.TAdiabatic(TempAirIn, LowerHeatingValue, T_guess\n",
    "                               , CompoundIn, CompoundOut, MFlowListOut\n",
    "                               , MFlowListIn )"
   ]
  },
  {
   "cell_type": "code",
   "execution_count": null,
   "metadata": {},
   "outputs": [],
   "source": []
  }
 ],
 "metadata": {
  "kernelspec": {
   "display_name": "Python 3",
   "language": "python",
   "name": "python3"
  },
  "language_info": {
   "codemirror_mode": {
    "name": "ipython",
    "version": 3
   },
   "file_extension": ".py",
   "mimetype": "text/x-python",
   "name": "python",
   "nbconvert_exporter": "python",
   "pygments_lexer": "ipython3",
   "version": "3.7.3"
  }
 },
 "nbformat": 4,
 "nbformat_minor": 2
}
