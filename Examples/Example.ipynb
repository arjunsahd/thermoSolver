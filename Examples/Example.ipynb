{
 "cells": [
  {
   "cell_type": "code",
   "execution_count": 1,
   "metadata": {},
   "outputs": [],
   "source": [
    "import sys\n",
    "sys.path.insert(0, '../')\n",
    "\n",
    "from thermoSolver import specificHeat, Convertion, AdiabaticCombustion\n",
    "from thermoSolver import visualise,rankine_solve\n",
    "import math"
   ]
  },
  {
   "cell_type": "code",
   "execution_count": 2,
   "metadata": {},
   "outputs": [
    {
     "name": "stdout",
     "output_type": "stream",
     "text": [
      "523\n"
     ]
    }
   ],
   "source": [
    "# initial conditions for adiabatic\n",
    "# mass flow relative to fuel\n",
    "\n",
    "CompoundIn = ['C2H4','Air']\n",
    "CompoundOut = ['CO2', 'H20', 'N2', 'O2']\n",
    "MFlowListIn = [1, 4.4]\n",
    "MFlowListOut = [1.03, 0.75, 3.36, 0.236]\n",
    "\n",
    "TempAirIn = Convertion.CtoK(250)\n",
    "print(TempAirIn)\n",
    "LowerHeatingValue = 9390\n",
    "T_guess = 1700"
   ]
  },
  {
   "cell_type": "code",
   "execution_count": 3,
   "metadata": {},
   "outputs": [
    {
     "name": "stdout",
     "output_type": "stream",
     "text": [
      "1670.0203491596963\n"
     ]
    }
   ],
   "source": [
    "out = AdiabaticCombustion.TAdiabatic(TempAirIn, LowerHeatingValue, T_guess\n",
    "                               , CompoundIn, CompoundOut, MFlowListOut\n",
    "                               , MFlowListIn )\n",
    "print(out)"
   ]
  },
  {
   "cell_type": "code",
   "execution_count": 4,
   "metadata": {},
   "outputs": [
    {
     "name": "stdout",
     "output_type": "stream",
     "text": [
      "C₂H₄ + 3O₂ ----> 2CO₂ + 2H₂O"
     ]
    }
   ],
   "source": [
    "#Balancing stoichiometric equations\n",
    "\n",
    "CompoundIn = ['C2H4','O2']\n",
    "CompoundOut = ['CO2', 'H2O']\n",
    "visualise.equation(CompoundIn, CompoundOut)"
   ]
  },
  {
   "cell_type": "code",
   "execution_count": 5,
   "metadata": {
    "scrolled": false
   },
   "outputs": [],
   "source": [
    "rankine_solve.Simple_Rankine_Cycle()"
   ]
  },
  {
   "cell_type": "code",
   "execution_count": 6,
   "metadata": {},
   "outputs": [],
   "source": [
    "temp = [0,0,0,0,0]\n",
    "preasure = [0,0,0,0,0]\n",
    "\n"
   ]
  }
 ],
 "metadata": {
  "kernelspec": {
   "display_name": "Python 3",
   "language": "python",
   "name": "python3"
  },
  "language_info": {
   "codemirror_mode": {
    "name": "ipython",
    "version": 3
   },
   "file_extension": ".py",
   "mimetype": "text/x-python",
   "name": "python",
   "nbconvert_exporter": "python",
   "pygments_lexer": "ipython3",
   "version": "3.7.3"
  }
 },
 "nbformat": 4,
 "nbformat_minor": 2
}
