{
 "cells": [
  {
   "cell_type": "code",
   "execution_count": 4,
   "metadata": {},
   "outputs": [],
   "source": [
    "import sys\n",
    "sys.path.insert(0, '../')\n",
    "\n",
    "from thermoSolver import specificHeat, Convertion, AdiabaticCombustion\n",
    "import math"
   ]
  },
  {
   "cell_type": "code",
   "execution_count": 11,
   "metadata": {},
   "outputs": [
    {
     "name": "stdout",
     "output_type": "stream",
     "text": [
      "523\n"
     ]
    }
   ],
   "source": [
    "# initial conditions for adiabatic\n",
    "# mass flow relative to fuel\n",
    "\n",
    "CompoundIn = ['Fuel','Air']\n",
    "CompoundOut = ['CarbonDioxide', 'Water', 'Nitrogen', 'Oxygen']\n",
    "MFlowListIn = [1, 4.4]\n",
    "MFlowListOut = [1.03, 0.75, 3.36, 0.236]\n",
    "\n",
    "TempAirIn = Convertion.CtoK(250)\n",
    "print(TempAirIn)\n",
    "LowerHeatingValue = 9.39e03\n",
    "T_guess = 1000"
   ]
  },
  {
   "cell_type": "code",
   "execution_count": 12,
   "metadata": {},
   "outputs": [
    {
     "name": "stdout",
     "output_type": "stream",
     "text": [
      "9397.265582136106\n",
      "57.24942968888001\n",
      "37230.852737069574\n",
      "9397.265582136106\n",
      "-5.3759999999999994\n",
      "-393002.7358594911\n",
      "9397.265582136106\n",
      "-5.3759999999999994\n",
      "-393002.7358594911\n"
     ]
    },
    {
     "data": {
      "text/plain": [
       "-393002.7358594911"
      ]
     },
     "execution_count": 12,
     "metadata": {},
     "output_type": "execute_result"
    }
   ],
   "source": [
    "AdiabaticCombustion.TAdiabatic(TempAirIn, LowerHeatingValue, T_guess\n",
    "                               , CompoundIn, CompoundOut, MFlowListOut\n",
    "                               , MFlowListIn )"
   ]
  },
  {
   "cell_type": "code",
   "execution_count": null,
   "metadata": {},
   "outputs": [],
   "source": []
  }
 ],
 "metadata": {
  "kernelspec": {
   "display_name": "Python 3",
   "language": "python",
   "name": "python3"
  },
  "language_info": {
   "codemirror_mode": {
    "name": "ipython",
    "version": 3
   },
   "file_extension": ".py",
   "mimetype": "text/x-python",
   "name": "python",
   "nbconvert_exporter": "python",
   "pygments_lexer": "ipython3",
   "version": "3.7.3"
  }
 },
 "nbformat": 4,
 "nbformat_minor": 2
}
